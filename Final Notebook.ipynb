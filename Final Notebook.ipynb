{
 "cells": [
  {
   "cell_type": "code",
   "execution_count": 1,
   "metadata": {},
   "outputs": [],
   "source": [
    "import numpy as np\n",
    "import pandas as pd\n",
    "from datetime import datetime\n",
    "import pandas_datareader as web\n",
    "import yfinance as yfin\n",
    "\n",
    "\n",
    "from nltk.tokenize import word_tokenize\n",
    "from nltk.corpus import stopwords\n",
    "\n",
    "import matplotlib.pyplot as plt\n",
    "import re\n",
    "import numpy as np\n",
    "import seaborn as sns\n",
    "from scipy import stats as stat\n",
    "\n",
    "from vaderSentiment.vaderSentiment import SentimentIntensityAnalyzer\n",
    "from tqdm import tnrange, tqdm_notebook, tqdm\n",
    "#from textblob import TextBlob"
   ]
  },
  {
   "cell_type": "code",
   "execution_count": 2,
   "metadata": {},
   "outputs": [],
   "source": [
    "chunk = pd.read_csv('Bitcoin_tweets.csv',chunksize=100000,lineterminator='\\n', dtype='unicode', on_bad_lines='skip')\n",
    "data = pd.concat(chunk)"
   ]
  },
  {
   "cell_type": "code",
   "execution_count": 3,
   "metadata": {},
   "outputs": [
    {
     "data": {
      "text/plain": [
       "(4689354, 13)"
      ]
     },
     "execution_count": 3,
     "metadata": {},
     "output_type": "execute_result"
    }
   ],
   "source": [
    "data.shape"
   ]
  },
  {
   "cell_type": "code",
   "execution_count": 4,
   "metadata": {},
   "outputs": [
    {
     "data": {
      "text/html": [
       "<div>\n",
       "<style scoped>\n",
       "    .dataframe tbody tr th:only-of-type {\n",
       "        vertical-align: middle;\n",
       "    }\n",
       "\n",
       "    .dataframe tbody tr th {\n",
       "        vertical-align: top;\n",
       "    }\n",
       "\n",
       "    .dataframe thead th {\n",
       "        text-align: right;\n",
       "    }\n",
       "</style>\n",
       "<table border=\"1\" class=\"dataframe\">\n",
       "  <thead>\n",
       "    <tr style=\"text-align: right;\">\n",
       "      <th></th>\n",
       "      <th>user_name</th>\n",
       "      <th>user_location</th>\n",
       "      <th>user_description</th>\n",
       "      <th>user_created</th>\n",
       "      <th>user_followers</th>\n",
       "      <th>user_friends</th>\n",
       "      <th>user_favourites</th>\n",
       "      <th>user_verified</th>\n",
       "      <th>date</th>\n",
       "      <th>text</th>\n",
       "      <th>hashtags</th>\n",
       "      <th>source</th>\n",
       "      <th>is_retweet</th>\n",
       "    </tr>\n",
       "  </thead>\n",
       "  <tbody>\n",
       "    <tr>\n",
       "      <th>0</th>\n",
       "      <td>DeSota Wilson</td>\n",
       "      <td>Atlanta, GA</td>\n",
       "      <td>Biz Consultant, real estate, fintech, startups...</td>\n",
       "      <td>2009-04-26 20:05:09</td>\n",
       "      <td>8534.0</td>\n",
       "      <td>7605</td>\n",
       "      <td>4838</td>\n",
       "      <td>False</td>\n",
       "      <td>2021-02-10 23:59:04</td>\n",
       "      <td>Blue Ridge Bank shares halted by NYSE after #b...</td>\n",
       "      <td>['bitcoin']</td>\n",
       "      <td>Twitter Web App</td>\n",
       "      <td>False</td>\n",
       "    </tr>\n",
       "    <tr>\n",
       "      <th>1</th>\n",
       "      <td>CryptoND</td>\n",
       "      <td>NaN</td>\n",
       "      <td>😎 BITCOINLIVE is a Dutch platform aimed at inf...</td>\n",
       "      <td>2019-10-17 20:12:10</td>\n",
       "      <td>6769.0</td>\n",
       "      <td>1532</td>\n",
       "      <td>25483</td>\n",
       "      <td>False</td>\n",
       "      <td>2021-02-10 23:58:48</td>\n",
       "      <td>😎 Today, that's this #Thursday, we will do a \"...</td>\n",
       "      <td>['Thursday', 'Btc', 'wallet', 'security']</td>\n",
       "      <td>Twitter for Android</td>\n",
       "      <td>False</td>\n",
       "    </tr>\n",
       "    <tr>\n",
       "      <th>2</th>\n",
       "      <td>Tdlmatias</td>\n",
       "      <td>London, England</td>\n",
       "      <td>IM Academy : The best #forex, #SelfEducation, ...</td>\n",
       "      <td>2014-11-10 10:50:37</td>\n",
       "      <td>128.0</td>\n",
       "      <td>332</td>\n",
       "      <td>924</td>\n",
       "      <td>False</td>\n",
       "      <td>2021-02-10 23:54:48</td>\n",
       "      <td>Guys evening, I have read this article about B...</td>\n",
       "      <td>NaN</td>\n",
       "      <td>Twitter Web App</td>\n",
       "      <td>False</td>\n",
       "    </tr>\n",
       "    <tr>\n",
       "      <th>3</th>\n",
       "      <td>Crypto is the future</td>\n",
       "      <td>NaN</td>\n",
       "      <td>I will post a lot of buying signals for BTC tr...</td>\n",
       "      <td>2019-09-28 16:48:12</td>\n",
       "      <td>625.0</td>\n",
       "      <td>129</td>\n",
       "      <td>14</td>\n",
       "      <td>False</td>\n",
       "      <td>2021-02-10 23:54:33</td>\n",
       "      <td>$BTC A big chance in a billion! Price: \\487264...</td>\n",
       "      <td>['Bitcoin', 'FX', 'BTC', 'crypto']</td>\n",
       "      <td>dlvr.it</td>\n",
       "      <td>False</td>\n",
       "    </tr>\n",
       "    <tr>\n",
       "      <th>4</th>\n",
       "      <td>Alex Kirchmaier 🇦🇹🇸🇪 #FactsSuperspreader</td>\n",
       "      <td>Europa</td>\n",
       "      <td>Co-founder @RENJERJerky | Forbes 30Under30 | I...</td>\n",
       "      <td>2016-02-03 13:15:55</td>\n",
       "      <td>1249.0</td>\n",
       "      <td>1472</td>\n",
       "      <td>10482</td>\n",
       "      <td>False</td>\n",
       "      <td>2021-02-10 23:54:06</td>\n",
       "      <td>This network is secured by 9 508 nodes as of t...</td>\n",
       "      <td>['BTC']</td>\n",
       "      <td>Twitter Web App</td>\n",
       "      <td>False</td>\n",
       "    </tr>\n",
       "  </tbody>\n",
       "</table>\n",
       "</div>"
      ],
      "text/plain": [
       "                                  user_name    user_location  \\\n",
       "0                             DeSota Wilson      Atlanta, GA   \n",
       "1                                  CryptoND              NaN   \n",
       "2                                 Tdlmatias  London, England   \n",
       "3                      Crypto is the future              NaN   \n",
       "4  Alex Kirchmaier 🇦🇹🇸🇪 #FactsSuperspreader           Europa   \n",
       "\n",
       "                                    user_description         user_created  \\\n",
       "0  Biz Consultant, real estate, fintech, startups...  2009-04-26 20:05:09   \n",
       "1  😎 BITCOINLIVE is a Dutch platform aimed at inf...  2019-10-17 20:12:10   \n",
       "2  IM Academy : The best #forex, #SelfEducation, ...  2014-11-10 10:50:37   \n",
       "3  I will post a lot of buying signals for BTC tr...  2019-09-28 16:48:12   \n",
       "4  Co-founder @RENJERJerky | Forbes 30Under30 | I...  2016-02-03 13:15:55   \n",
       "\n",
       "  user_followers user_friends user_favourites user_verified  \\\n",
       "0         8534.0         7605            4838         False   \n",
       "1         6769.0         1532           25483         False   \n",
       "2          128.0          332             924         False   \n",
       "3          625.0          129              14         False   \n",
       "4         1249.0         1472           10482         False   \n",
       "\n",
       "                  date                                               text  \\\n",
       "0  2021-02-10 23:59:04  Blue Ridge Bank shares halted by NYSE after #b...   \n",
       "1  2021-02-10 23:58:48  😎 Today, that's this #Thursday, we will do a \"...   \n",
       "2  2021-02-10 23:54:48  Guys evening, I have read this article about B...   \n",
       "3  2021-02-10 23:54:33  $BTC A big chance in a billion! Price: \\487264...   \n",
       "4  2021-02-10 23:54:06  This network is secured by 9 508 nodes as of t...   \n",
       "\n",
       "                                    hashtags               source is_retweet  \n",
       "0                                ['bitcoin']      Twitter Web App      False  \n",
       "1  ['Thursday', 'Btc', 'wallet', 'security']  Twitter for Android      False  \n",
       "2                                        NaN      Twitter Web App      False  \n",
       "3         ['Bitcoin', 'FX', 'BTC', 'crypto']              dlvr.it      False  \n",
       "4                                    ['BTC']      Twitter Web App      False  "
      ]
     },
     "execution_count": 4,
     "metadata": {},
     "output_type": "execute_result"
    }
   ],
   "source": [
    "data.head()"
   ]
  },
  {
   "cell_type": "code",
   "execution_count": 5,
   "metadata": {},
   "outputs": [
    {
     "data": {
      "text/plain": [
       "(4689354, 13)"
      ]
     },
     "execution_count": 5,
     "metadata": {},
     "output_type": "execute_result"
    }
   ],
   "source": [
    "data.dropna(axis=0 ,subset=['date','text'],inplace = True)\n",
    "data.reset_index(drop= True,inplace=True)\n",
    "data.shape"
   ]
  },
  {
   "cell_type": "code",
   "execution_count": 6,
   "metadata": {},
   "outputs": [
    {
     "data": {
      "text/plain": [
       "(4689354, 13)"
      ]
     },
     "execution_count": 6,
     "metadata": {},
     "output_type": "execute_result"
    }
   ],
   "source": [
    "data.drop_duplicates(inplace = True)\n",
    "data.reset_index(drop=True,inplace=True)\n",
    "data.shape"
   ]
  },
  {
   "cell_type": "code",
   "execution_count": 7,
   "metadata": {},
   "outputs": [
    {
     "data": {
      "text/plain": [
       "user_name           object\n",
       "user_location       object\n",
       "user_description    object\n",
       "user_created        object\n",
       "user_followers      object\n",
       "user_friends        object\n",
       "user_favourites     object\n",
       "user_verified       object\n",
       "date                object\n",
       "text                object\n",
       "hashtags            object\n",
       "source              object\n",
       "is_retweet          object\n",
       "dtype: object"
      ]
     },
     "execution_count": 7,
     "metadata": {},
     "output_type": "execute_result"
    }
   ],
   "source": [
    "data.dtypes"
   ]
  },
  {
   "cell_type": "code",
   "execution_count": 8,
   "metadata": {},
   "outputs": [
    {
     "data": {
      "text/plain": [
       "user_name           string[python]\n",
       "user_location       string[python]\n",
       "user_description    string[python]\n",
       "user_created        string[python]\n",
       "user_followers      string[python]\n",
       "user_friends        string[python]\n",
       "user_favourites     string[python]\n",
       "user_verified       string[python]\n",
       "date                string[python]\n",
       "text                string[python]\n",
       "hashtags            string[python]\n",
       "source              string[python]\n",
       "is_retweet          string[python]\n",
       "dtype: object"
      ]
     },
     "execution_count": 8,
     "metadata": {},
     "output_type": "execute_result"
    }
   ],
   "source": [
    "data = data.convert_dtypes()\n",
    "data.dtypes"
   ]
  },
  {
   "cell_type": "code",
   "execution_count": 9,
   "metadata": {},
   "outputs": [],
   "source": [
    "#Check which of the rows don't have an actuall date in the 'date' column\n",
    "def validate(date_text):\n",
    "    errors = []\n",
    "    for i,v in enumerate(date_text):\n",
    "        try:\n",
    "            datetime.strptime(v, '%Y-%m-%d %H:%M:%S')\n",
    "        except ValueError:\n",
    "            errors.append(i)\n",
    "    return errors"
   ]
  },
  {
   "cell_type": "code",
   "execution_count": 10,
   "metadata": {},
   "outputs": [
    {
     "name": "stdout",
     "output_type": "stream",
     "text": [
      "There are 66 values that are not actual dates in the date column\n"
     ]
    }
   ],
   "source": [
    "errors = validate(data['date'])\n",
    "print('There are '+ str(len(errors)) + ' values that are not actual dates in the date column')"
   ]
  },
  {
   "cell_type": "code",
   "execution_count": 11,
   "metadata": {},
   "outputs": [
    {
     "data": {
      "text/plain": [
       "(4689288, 13)"
      ]
     },
     "execution_count": 11,
     "metadata": {},
     "output_type": "execute_result"
    }
   ],
   "source": [
    "data_clean_date = data.loc[~data.index.isin(errors)]\n",
    "data_clean_date.reset_index(drop=True,inplace=True)\n",
    "data_clean_date.shape"
   ]
  },
  {
   "cell_type": "code",
   "execution_count": 12,
   "metadata": {},
   "outputs": [
    {
     "name": "stderr",
     "output_type": "stream",
     "text": [
      "/var/folders/06/fb5_7prj0vx1gwz728806g2c0000gn/T/ipykernel_2131/4144265522.py:1: SettingWithCopyWarning: \n",
      "A value is trying to be set on a copy of a slice from a DataFrame.\n",
      "Try using .loc[row_indexer,col_indexer] = value instead\n",
      "\n",
      "See the caveats in the documentation: https://pandas.pydata.org/pandas-docs/stable/user_guide/indexing.html#returning-a-view-versus-a-copy\n",
      "  data_clean_date['date'] = pd.to_datetime(data_clean_date['date'], format='%Y-%m-%d %H:%M:%S')\n"
     ]
    }
   ],
   "source": [
    "data_clean_date['date'] = pd.to_datetime(data_clean_date['date'], format='%Y-%m-%d %H:%M:%S')"
   ]
  },
  {
   "cell_type": "code",
   "execution_count": 13,
   "metadata": {},
   "outputs": [
    {
     "data": {
      "text/html": [
       "<div>\n",
       "<style scoped>\n",
       "    .dataframe tbody tr th:only-of-type {\n",
       "        vertical-align: middle;\n",
       "    }\n",
       "\n",
       "    .dataframe tbody tr th {\n",
       "        vertical-align: top;\n",
       "    }\n",
       "\n",
       "    .dataframe thead th {\n",
       "        text-align: right;\n",
       "    }\n",
       "</style>\n",
       "<table border=\"1\" class=\"dataframe\">\n",
       "  <thead>\n",
       "    <tr style=\"text-align: right;\">\n",
       "      <th></th>\n",
       "      <th>user_name</th>\n",
       "      <th>user_location</th>\n",
       "      <th>user_description</th>\n",
       "      <th>user_created</th>\n",
       "      <th>user_followers</th>\n",
       "      <th>user_friends</th>\n",
       "      <th>user_favourites</th>\n",
       "      <th>user_verified</th>\n",
       "      <th>date</th>\n",
       "      <th>text</th>\n",
       "      <th>hashtags</th>\n",
       "      <th>source</th>\n",
       "      <th>is_retweet</th>\n",
       "    </tr>\n",
       "  </thead>\n",
       "  <tbody>\n",
       "    <tr>\n",
       "      <th>0</th>\n",
       "      <td>trm_crypto</td>\n",
       "      <td>United States</td>\n",
       "      <td>This is the trm_crypto channel and I want to b...</td>\n",
       "      <td>2021-11-05 14:08:29</td>\n",
       "      <td>50.0</td>\n",
       "      <td>644.0</td>\n",
       "      <td>348.0</td>\n",
       "      <td>False</td>\n",
       "      <td>2022-06-04</td>\n",
       "      <td>$1 billion has been lost in cryptocurrency sca...</td>\n",
       "      <td>['trm', 'trm_crypto', 'Bitcoin', 'Etherium', '...</td>\n",
       "      <td>IFTTT</td>\n",
       "      <td>False</td>\n",
       "    </tr>\n",
       "    <tr>\n",
       "      <th>1</th>\n",
       "      <td>trm_crypto</td>\n",
       "      <td>United States</td>\n",
       "      <td>This is the trm_crypto channel and I want to b...</td>\n",
       "      <td>2021-11-05 14:08:29</td>\n",
       "      <td>50.0</td>\n",
       "      <td>644.0</td>\n",
       "      <td>348.0</td>\n",
       "      <td>False</td>\n",
       "      <td>2022-06-04</td>\n",
       "      <td>Is Solana a 'buy' with SOL price at 10-month l...</td>\n",
       "      <td>['trm', 'trm_crypto', 'Bitcoin', 'Etherium', '...</td>\n",
       "      <td>IFTTT</td>\n",
       "      <td>False</td>\n",
       "    </tr>\n",
       "    <tr>\n",
       "      <th>2</th>\n",
       "      <td>trm_crypto</td>\n",
       "      <td>United States</td>\n",
       "      <td>This is the trm_crypto channel and I want to b...</td>\n",
       "      <td>2021-11-05 14:08:29</td>\n",
       "      <td>50.0</td>\n",
       "      <td>644.0</td>\n",
       "      <td>348.0</td>\n",
       "      <td>False</td>\n",
       "      <td>2022-06-04</td>\n",
       "      <td>Russia's Industrial Giant Rostec Announces Blo...</td>\n",
       "      <td>['trm', 'trm_crypto', 'Bitcoin', 'Etherium', '...</td>\n",
       "      <td>IFTTT</td>\n",
       "      <td>False</td>\n",
       "    </tr>\n",
       "    <tr>\n",
       "      <th>3</th>\n",
       "      <td>CrypticThreadz.NFT</td>\n",
       "      <td>Metaverse</td>\n",
       "      <td>News collected from multiple top sources in on...</td>\n",
       "      <td>2021-07-17 23:56:22</td>\n",
       "      <td>265.0</td>\n",
       "      <td>81.0</td>\n",
       "      <td>94.0</td>\n",
       "      <td>False</td>\n",
       "      <td>2022-06-04</td>\n",
       "      <td>Alchemy announces support for Solana Web3 appl...</td>\n",
       "      <td>['bitcoin', 'cryptocurrency', 'crypto', 'nft',...</td>\n",
       "      <td>Blogtotwitter1950</td>\n",
       "      <td>False</td>\n",
       "    </tr>\n",
       "    <tr>\n",
       "      <th>4</th>\n",
       "      <td>Freelance Jobs Feed</td>\n",
       "      <td>&lt;NA&gt;</td>\n",
       "      <td>Follow here for Hourly Freelance Job Posts | S...</td>\n",
       "      <td>2011-12-24 00:26:53</td>\n",
       "      <td>13050.0</td>\n",
       "      <td>6.0</td>\n",
       "      <td>0.0</td>\n",
       "      <td>False</td>\n",
       "      <td>2022-06-04</td>\n",
       "      <td>#Bitcoin #Blockchain Blockfriend nft bot: I ne...</td>\n",
       "      <td>['Bitcoin', 'Blockchain']</td>\n",
       "      <td>dlvr.it</td>\n",
       "      <td>False</td>\n",
       "    </tr>\n",
       "  </tbody>\n",
       "</table>\n",
       "</div>"
      ],
      "text/plain": [
       "             user_name  user_location  \\\n",
       "0           trm_crypto  United States   \n",
       "1           trm_crypto  United States   \n",
       "2           trm_crypto  United States   \n",
       "3   CrypticThreadz.NFT      Metaverse   \n",
       "4  Freelance Jobs Feed           <NA>   \n",
       "\n",
       "                                    user_description         user_created  \\\n",
       "0  This is the trm_crypto channel and I want to b...  2021-11-05 14:08:29   \n",
       "1  This is the trm_crypto channel and I want to b...  2021-11-05 14:08:29   \n",
       "2  This is the trm_crypto channel and I want to b...  2021-11-05 14:08:29   \n",
       "3  News collected from multiple top sources in on...  2021-07-17 23:56:22   \n",
       "4  Follow here for Hourly Freelance Job Posts | S...  2011-12-24 00:26:53   \n",
       "\n",
       "  user_followers user_friends user_favourites user_verified        date  \\\n",
       "0           50.0        644.0           348.0         False  2022-06-04   \n",
       "1           50.0        644.0           348.0         False  2022-06-04   \n",
       "2           50.0        644.0           348.0         False  2022-06-04   \n",
       "3          265.0         81.0            94.0         False  2022-06-04   \n",
       "4        13050.0          6.0             0.0         False  2022-06-04   \n",
       "\n",
       "                                                text  \\\n",
       "0  $1 billion has been lost in cryptocurrency sca...   \n",
       "1  Is Solana a 'buy' with SOL price at 10-month l...   \n",
       "2  Russia's Industrial Giant Rostec Announces Blo...   \n",
       "3  Alchemy announces support for Solana Web3 appl...   \n",
       "4  #Bitcoin #Blockchain Blockfriend nft bot: I ne...   \n",
       "\n",
       "                                            hashtags             source  \\\n",
       "0  ['trm', 'trm_crypto', 'Bitcoin', 'Etherium', '...              IFTTT   \n",
       "1  ['trm', 'trm_crypto', 'Bitcoin', 'Etherium', '...              IFTTT   \n",
       "2  ['trm', 'trm_crypto', 'Bitcoin', 'Etherium', '...              IFTTT   \n",
       "3  ['bitcoin', 'cryptocurrency', 'crypto', 'nft',...  Blogtotwitter1950   \n",
       "4                          ['Bitcoin', 'Blockchain']            dlvr.it   \n",
       "\n",
       "  is_retweet  \n",
       "0      False  \n",
       "1      False  \n",
       "2      False  \n",
       "3      False  \n",
       "4      False  "
      ]
     },
     "execution_count": 13,
     "metadata": {},
     "output_type": "execute_result"
    }
   ],
   "source": [
    "data_clean_initial = data_clean_date.loc[(data_clean_date['date'] >= '2022-05-30')].reset_index(drop=True)\n",
    "data_clean_initial.head()\n",
    "\n",
    "data_clean_initial[\"date\"]=pd.to_datetime(data_clean_initial[\"date\"],errors='coerce')\n",
    "data_clean_initial[\"date\"]=data_clean_initial[\"date\"].apply(lambda x: x.date() )\n",
    "data_clean_initial.head()\n"
   ]
  },
  {
   "cell_type": "code",
   "execution_count": 14,
   "metadata": {},
   "outputs": [],
   "source": [
    "irrelevant_hashtags = ['nft','giveaway','cashback','airdrop']"
   ]
  },
  {
   "cell_type": "code",
   "execution_count": 15,
   "metadata": {},
   "outputs": [],
   "source": [
    "data_clean_initial['hashtags'] = data_clean_initial['hashtags'].str.lower()"
   ]
  },
  {
   "cell_type": "code",
   "execution_count": 16,
   "metadata": {},
   "outputs": [],
   "source": [
    "data_clean_initial = data_clean_initial[data_clean_initial['hashtags'].str.contains('|'.join(irrelevant_hashtags)) == False].reset_index(drop = True)"
   ]
  },
  {
   "cell_type": "code",
   "execution_count": 17,
   "metadata": {},
   "outputs": [],
   "source": [
    "data_clean_initial[\"hashtags\"]=data_clean_initial[\"hashtags\"].apply(lambda s : s[1:-1].split(',') if isinstance(s,str) else [])\n",
    "data_clean_initial[\"hashtags_len\"]=data_clean_initial[\"hashtags\"].apply(len)"
   ]
  },
  {
   "cell_type": "code",
   "execution_count": 18,
   "metadata": {},
   "outputs": [
    {
     "data": {
      "text/plain": [
       "(1103654, 14)"
      ]
     },
     "execution_count": 18,
     "metadata": {},
     "output_type": "execute_result"
    }
   ],
   "source": [
    "data_clean_initial.shape"
   ]
  },
  {
   "cell_type": "code",
   "execution_count": 19,
   "metadata": {},
   "outputs": [],
   "source": [
    "data_clean_initial['text'] = data_clean_initial['text'].str.replace(\"(@\\[A-Za-z0-9]+)|([^0-9A-Za-z \\t])|(\\w+:\\/\\/\\S+)|^rt|http.+?\",\" \")\n"
   ]
  },
  {
   "cell_type": "code",
   "execution_count": 20,
   "metadata": {},
   "outputs": [],
   "source": [
    "def conv_to_float(val):\n",
    "    return float(val)\n",
    "data_clean_initial[\"user_followers\"]=data_clean_initial[\"user_followers\"].apply(lambda x : conv_to_float(x))\n",
    "data_clean_initial[\"user_friends\"]=data_clean_initial[\"user_friends\"].apply(lambda x : conv_to_float(x))\n",
    "data_clean_initial[\"user_favourites\"]=data_clean_initial[\"user_favourites\"].apply(lambda x : conv_to_float(x))"
   ]
  },
  {
   "cell_type": "code",
   "execution_count": 21,
   "metadata": {},
   "outputs": [],
   "source": [
    "def generate_reputation(tweet):\n",
    "    coef_verified = 1.1 if tweet.user_verified else 1\n",
    "    coef_hashtags = 1+(tweet.hashtags_len/20)\n",
    "    return ((tweet.user_followers + (tweet.user_friends/4))*coef_verified*coef_hashtags)/100"
   ]
  },
  {
   "cell_type": "code",
   "execution_count": 22,
   "metadata": {},
   "outputs": [],
   "source": [
    "data_clean_initial[\"reputation\"]=data_clean_initial.apply(generate_reputation, axis=1)"
   ]
  },
  {
   "cell_type": "code",
   "execution_count": 23,
   "metadata": {},
   "outputs": [
    {
     "data": {
      "text/html": [
       "<div>\n",
       "<style scoped>\n",
       "    .dataframe tbody tr th:only-of-type {\n",
       "        vertical-align: middle;\n",
       "    }\n",
       "\n",
       "    .dataframe tbody tr th {\n",
       "        vertical-align: top;\n",
       "    }\n",
       "\n",
       "    .dataframe thead th {\n",
       "        text-align: right;\n",
       "    }\n",
       "</style>\n",
       "<table border=\"1\" class=\"dataframe\">\n",
       "  <thead>\n",
       "    <tr style=\"text-align: right;\">\n",
       "      <th></th>\n",
       "      <th>user_name</th>\n",
       "      <th>user_location</th>\n",
       "      <th>user_description</th>\n",
       "      <th>user_created</th>\n",
       "      <th>user_followers</th>\n",
       "      <th>user_friends</th>\n",
       "      <th>user_favourites</th>\n",
       "      <th>user_verified</th>\n",
       "      <th>date</th>\n",
       "      <th>text</th>\n",
       "      <th>hashtags</th>\n",
       "      <th>source</th>\n",
       "      <th>is_retweet</th>\n",
       "      <th>hashtags_len</th>\n",
       "      <th>reputation</th>\n",
       "    </tr>\n",
       "  </thead>\n",
       "  <tbody>\n",
       "    <tr>\n",
       "      <th>0</th>\n",
       "      <td>trm_crypto</td>\n",
       "      <td>United States</td>\n",
       "      <td>This is the trm_crypto channel and I want to b...</td>\n",
       "      <td>2021-11-05 14:08:29</td>\n",
       "      <td>50.0</td>\n",
       "      <td>644.0</td>\n",
       "      <td>348.0</td>\n",
       "      <td>False</td>\n",
       "      <td>2022-06-04</td>\n",
       "      <td>$1 billion has been lost in cryptocurrency sca...</td>\n",
       "      <td>['trm',  'trm_crypto',  'bitcoin',  'etherium'...</td>\n",
       "      <td>IFTTT</td>\n",
       "      <td>False</td>\n",
       "      <td>6</td>\n",
       "      <td>3.017300</td>\n",
       "    </tr>\n",
       "    <tr>\n",
       "      <th>1</th>\n",
       "      <td>trm_crypto</td>\n",
       "      <td>United States</td>\n",
       "      <td>This is the trm_crypto channel and I want to b...</td>\n",
       "      <td>2021-11-05 14:08:29</td>\n",
       "      <td>50.0</td>\n",
       "      <td>644.0</td>\n",
       "      <td>348.0</td>\n",
       "      <td>False</td>\n",
       "      <td>2022-06-04</td>\n",
       "      <td>Is Solana a 'buy' with SOL price at 10-month l...</td>\n",
       "      <td>['trm',  'trm_crypto',  'bitcoin',  'etherium'...</td>\n",
       "      <td>IFTTT</td>\n",
       "      <td>False</td>\n",
       "      <td>6</td>\n",
       "      <td>3.017300</td>\n",
       "    </tr>\n",
       "    <tr>\n",
       "      <th>2</th>\n",
       "      <td>trm_crypto</td>\n",
       "      <td>United States</td>\n",
       "      <td>This is the trm_crypto channel and I want to b...</td>\n",
       "      <td>2021-11-05 14:08:29</td>\n",
       "      <td>50.0</td>\n",
       "      <td>644.0</td>\n",
       "      <td>348.0</td>\n",
       "      <td>False</td>\n",
       "      <td>2022-06-04</td>\n",
       "      <td>Russia's Industrial Giant Rostec Announces Blo...</td>\n",
       "      <td>['trm',  'trm_crypto',  'bitcoin',  'etherium'...</td>\n",
       "      <td>IFTTT</td>\n",
       "      <td>False</td>\n",
       "      <td>6</td>\n",
       "      <td>3.017300</td>\n",
       "    </tr>\n",
       "    <tr>\n",
       "      <th>3</th>\n",
       "      <td>Freelance Jobs Feed</td>\n",
       "      <td>&lt;NA&gt;</td>\n",
       "      <td>Follow here for Hourly Freelance Job Posts | S...</td>\n",
       "      <td>2011-12-24 00:26:53</td>\n",
       "      <td>13050.0</td>\n",
       "      <td>6.0</td>\n",
       "      <td>0.0</td>\n",
       "      <td>False</td>\n",
       "      <td>2022-06-04</td>\n",
       "      <td>#Bitcoin #Blockchain Blockfriend nft bot: I ne...</td>\n",
       "      <td>['bitcoin',  'blockchain']</td>\n",
       "      <td>dlvr.it</td>\n",
       "      <td>False</td>\n",
       "      <td>2</td>\n",
       "      <td>157.923150</td>\n",
       "    </tr>\n",
       "    <tr>\n",
       "      <th>4</th>\n",
       "      <td>Alex</td>\n",
       "      <td>Havana, Cuba</td>\n",
       "      <td>#Bitcoin 💎🙌🏻\n",
       "#CryptoTrader📈📉</td>\n",
       "      <td>2020-12-31 21:48:00</td>\n",
       "      <td>153.0</td>\n",
       "      <td>127.0</td>\n",
       "      <td>7294.0</td>\n",
       "      <td>False</td>\n",
       "      <td>2022-06-04</td>\n",
       "      <td>@hfangca #Bitcoin is freedom for me. It's a wa...</td>\n",
       "      <td>['bitcoin']</td>\n",
       "      <td>Twitter Web App</td>\n",
       "      <td>False</td>\n",
       "      <td>1</td>\n",
       "      <td>2.133863</td>\n",
       "    </tr>\n",
       "  </tbody>\n",
       "</table>\n",
       "</div>"
      ],
      "text/plain": [
       "             user_name  user_location  \\\n",
       "0           trm_crypto  United States   \n",
       "1           trm_crypto  United States   \n",
       "2           trm_crypto  United States   \n",
       "3  Freelance Jobs Feed           <NA>   \n",
       "4                 Alex   Havana, Cuba   \n",
       "\n",
       "                                    user_description         user_created  \\\n",
       "0  This is the trm_crypto channel and I want to b...  2021-11-05 14:08:29   \n",
       "1  This is the trm_crypto channel and I want to b...  2021-11-05 14:08:29   \n",
       "2  This is the trm_crypto channel and I want to b...  2021-11-05 14:08:29   \n",
       "3  Follow here for Hourly Freelance Job Posts | S...  2011-12-24 00:26:53   \n",
       "4                       #Bitcoin 💎🙌🏻\n",
       "#CryptoTrader📈📉  2020-12-31 21:48:00   \n",
       "\n",
       "   user_followers  user_friends  user_favourites user_verified        date  \\\n",
       "0            50.0         644.0            348.0         False  2022-06-04   \n",
       "1            50.0         644.0            348.0         False  2022-06-04   \n",
       "2            50.0         644.0            348.0         False  2022-06-04   \n",
       "3         13050.0           6.0              0.0         False  2022-06-04   \n",
       "4           153.0         127.0           7294.0         False  2022-06-04   \n",
       "\n",
       "                                                text  \\\n",
       "0  $1 billion has been lost in cryptocurrency sca...   \n",
       "1  Is Solana a 'buy' with SOL price at 10-month l...   \n",
       "2  Russia's Industrial Giant Rostec Announces Blo...   \n",
       "3  #Bitcoin #Blockchain Blockfriend nft bot: I ne...   \n",
       "4  @hfangca #Bitcoin is freedom for me. It's a wa...   \n",
       "\n",
       "                                            hashtags           source  \\\n",
       "0  ['trm',  'trm_crypto',  'bitcoin',  'etherium'...            IFTTT   \n",
       "1  ['trm',  'trm_crypto',  'bitcoin',  'etherium'...            IFTTT   \n",
       "2  ['trm',  'trm_crypto',  'bitcoin',  'etherium'...            IFTTT   \n",
       "3                         ['bitcoin',  'blockchain']          dlvr.it   \n",
       "4                                        ['bitcoin']  Twitter Web App   \n",
       "\n",
       "  is_retweet  hashtags_len  reputation  \n",
       "0      False             6    3.017300  \n",
       "1      False             6    3.017300  \n",
       "2      False             6    3.017300  \n",
       "3      False             2  157.923150  \n",
       "4      False             1    2.133863  "
      ]
     },
     "execution_count": 23,
     "metadata": {},
     "output_type": "execute_result"
    }
   ],
   "source": [
    "data_clean = data_clean_initial.copy()\n",
    "data_clean.head()"
   ]
  },
  {
   "cell_type": "code",
   "execution_count": 24,
   "metadata": {},
   "outputs": [
    {
     "name": "stdout",
     "output_type": "stream",
     "text": [
      "Requirement already satisfied: yfinance in /Users/arnav/miniforge3/lib/python3.10/site-packages (0.2.37)\n",
      "Requirement already satisfied: pandas>=1.3.0 in /Users/arnav/miniforge3/lib/python3.10/site-packages (from yfinance) (2.0.2)\n",
      "Requirement already satisfied: frozendict>=2.3.4 in /Users/arnav/miniforge3/lib/python3.10/site-packages (from yfinance) (2.4.0)\n",
      "Requirement already satisfied: pytz>=2022.5 in /Users/arnav/miniforge3/lib/python3.10/site-packages (from yfinance) (2023.3)\n",
      "Requirement already satisfied: requests>=2.31 in /Users/arnav/miniforge3/lib/python3.10/site-packages (from yfinance) (2.31.0)\n",
      "Requirement already satisfied: lxml>=4.9.1 in /Users/arnav/miniforge3/lib/python3.10/site-packages (from yfinance) (5.1.0)\n",
      "Requirement already satisfied: html5lib>=1.1 in /Users/arnav/miniforge3/lib/python3.10/site-packages (from yfinance) (1.1)\n",
      "Requirement already satisfied: multitasking>=0.0.7 in /Users/arnav/miniforge3/lib/python3.10/site-packages (from yfinance) (0.0.11)\n",
      "Requirement already satisfied: numpy>=1.16.5 in /Users/arnav/miniforge3/lib/python3.10/site-packages (from yfinance) (1.23.2)\n",
      "Requirement already satisfied: beautifulsoup4>=4.11.1 in /Users/arnav/miniforge3/lib/python3.10/site-packages (from yfinance) (4.12.2)\n",
      "Requirement already satisfied: appdirs>=1.4.4 in /Users/arnav/miniforge3/lib/python3.10/site-packages (from yfinance) (1.4.4)\n",
      "Requirement already satisfied: peewee>=3.16.2 in /Users/arnav/miniforge3/lib/python3.10/site-packages (from yfinance) (3.17.1)\n",
      "Requirement already satisfied: soupsieve>1.2 in /Users/arnav/miniforge3/lib/python3.10/site-packages (from beautifulsoup4>=4.11.1->yfinance) (2.4.1)\n",
      "Requirement already satisfied: six>=1.9 in /Users/arnav/miniforge3/lib/python3.10/site-packages (from html5lib>=1.1->yfinance) (1.16.0)\n",
      "Requirement already satisfied: webencodings in /Users/arnav/miniforge3/lib/python3.10/site-packages (from html5lib>=1.1->yfinance) (0.5.1)\n",
      "Requirement already satisfied: tzdata>=2022.1 in /Users/arnav/miniforge3/lib/python3.10/site-packages (from pandas>=1.3.0->yfinance) (2023.3)\n",
      "Requirement already satisfied: python-dateutil>=2.8.2 in /Users/arnav/miniforge3/lib/python3.10/site-packages (from pandas>=1.3.0->yfinance) (2.8.2)\n",
      "Requirement already satisfied: urllib3<3,>=1.21.1 in /Users/arnav/miniforge3/lib/python3.10/site-packages (from requests>=2.31->yfinance) (1.26.16)\n",
      "Requirement already satisfied: idna<4,>=2.5 in /Users/arnav/miniforge3/lib/python3.10/site-packages (from requests>=2.31->yfinance) (3.4)\n",
      "Requirement already satisfied: certifi>=2017.4.17 in /Users/arnav/miniforge3/lib/python3.10/site-packages (from requests>=2.31->yfinance) (2023.5.7)\n",
      "Requirement already satisfied: charset-normalizer<4,>=2 in /Users/arnav/miniforge3/lib/python3.10/site-packages (from requests>=2.31->yfinance) (3.1.0)\n"
     ]
    }
   ],
   "source": [
    "!pip install yfinance"
   ]
  },
  {
   "cell_type": "code",
   "execution_count": 25,
   "metadata": {},
   "outputs": [],
   "source": [
    "import yfinance as yf\n",
    "btc_stock=yf.Ticker(\"BTC-USD\")"
   ]
  },
  {
   "cell_type": "code",
   "execution_count": 26,
   "metadata": {},
   "outputs": [],
   "source": [
    "start = min(data_clean['date'])\n",
    "end = max(data_clean['date'])\n",
    "btc_stock = btc_stock.history(start=start, end=end)"
   ]
  },
  {
   "cell_type": "code",
   "execution_count": 27,
   "metadata": {},
   "outputs": [
    {
     "data": {
      "image/png": "[encoded data removed]",
      "text/plain": [
       "<Figure size 1600x800 with 3 Axes>"
      ]
     },
     "metadata": {},
     "output_type": "display_data"
    },
    {
     "name": "stdout",
     "output_type": "stream",
     "text": [
      "Spearman correlation - tweets: corr=nan pval=nan\n",
      "Spearman correlation - impact tweets: corr=nan pval=nan\n"
     ]
    }
   ],
   "source": [
    "tweet_shift1 = data_clean.groupby('date').size().shift(-1).dropna() \n",
    "tweet_shift1_impact = data_clean.groupby('date')[\"reputation\"].sum().shift(-1).dropna() \n",
    "\n",
    "tweet_shift1.head()\n",
    "\n",
    "stocks_data = (btc_stock['Volume']).dropna()\n",
    "\n",
    "tweets_vol = data_clean.groupby('date').size().rolling(10).mean().dropna()\n",
    "tweets_vol_impact= data_clean.groupby('date')[\"reputation\"].sum().rolling(10).mean().dropna()\n",
    "\n",
    "first = tweets_vol.reindex(stocks_data.index)\n",
    "second = tweets_vol_impact.reindex(stocks_data.index)\n",
    "\n",
    "corr, pval = stat.spearmanr(first, stocks_data,nan_policy='omit')\n",
    "corr_i, pval_i = stat.spearmanr(second, stocks_data,nan_policy='omit')\n",
    "\n",
    "fig, ax = plt.subplots(figsize=(16,8))\n",
    "\n",
    "ax.plot(stocks_data.index,stocks_data,color='orange',label='Trade Volume')\n",
    "ax.tick_params(axis='y')\n",
    "\n",
    "ax2 = ax.twinx()\n",
    "ax2.plot(tweets_vol.index,tweets_vol,label='Tweet Volume')\n",
    "ax2.set_yscale('log')\n",
    "ax2.tick_params(axis='y')\n",
    "\n",
    "ax3=ax.twinx()\n",
    "ax3.plot(tweets_vol_impact.index,tweets_vol_impact,label='Tweet Volume and Impact', color='red')\n",
    "\n",
    "lines, labels = ax.get_legend_handles_labels()\n",
    "lines2, labels2 = ax2.get_legend_handles_labels()\n",
    "lines3, labels3 = ax3.get_legend_handles_labels()\n",
    "ax2.legend(lines + lines2 + lines3, labels + labels2 + labels3, loc=0)\n",
    "\n",
    "plt.show()\n",
    "\n",
    "print(\"Spearman correlation - tweets: corr={} pval={}\".format(corr,pval))\n",
    "print(\"Spearman correlation - impact tweets: corr={} pval={}\".format(corr_i,pval_i))"
   ]
  },
  {
   "cell_type": "code",
   "execution_count": 28,
   "metadata": {},
   "outputs": [],
   "source": [
    "data_clean['date'] = pd.to_datetime(data_clean['date'],utc=True)\n",
    "data_clean.date = data_clean.date.dt.tz_localize(None)\n",
    "data_clean.index = data_clean['date']\n"
   ]
  },
  {
   "cell_type": "code",
   "execution_count": 29,
   "metadata": {},
   "outputs": [
    {
     "name": "stderr",
     "output_type": "stream",
     "text": [
      "100%|██████████| 1103654/1103654 [01:54<00:00, 9599.31it/s] \n"
     ]
    }
   ],
   "source": [
    "analyzer = SentimentIntensityAnalyzer()\n",
    "compound = []\n",
    "for i,s in enumerate(tqdm(data_clean['text'],position=0, leave=True)):\n",
    "    # print(i,s)\n",
    "    vs = analyzer.polarity_scores(str(s))\n",
    "    compound.append(vs[\"compound\"])\n",
    "data_clean[\"compound\"] = compound"
   ]
  },
  {
   "cell_type": "code",
   "execution_count": 55,
   "metadata": {},
   "outputs": [],
   "source": [
    "stocks_data = stocks_data.tz_localize(None)"
   ]
  },
  {
   "cell_type": "code",
   "execution_count": 32,
   "metadata": {},
   "outputs": [],
   "source": [
    "def crosscorr(datax, datay, lag=0, method=\"pearson\"):\n",
    "    #Lag-N cross correlation\n",
    "    return datax.corrwith(datay.shift(lag), method=method)['score']"
   ]
  },
  {
   "cell_type": "code",
   "execution_count": 56,
   "metadata": {},
   "outputs": [],
   "source": [
    "xcov = [crosscorr(data_clean, stocks_data, lag=i, method=\"pearson\") for i in range(-20,20)]\n",
    "plt.plot(range(-20,20), xcov)\n",
    "plt.title(\"pearson cross-correlation\")\n",
    "plt.xlabel(\"lag\")\n",
    "plt.ylabel(\"correlation\")\n",
    "plt.show()\n",
    "\n",
    "xcov = [crosscorr(data_clean, stocks_data, lag=i, method=\"kendall\") for i in range(-20,20)]\n",
    "plt.plot(range(-20,20), xcov)\n",
    "plt.title(\"kendall cross-correlation\")\n",
    "plt.xlabel(\"lag\")\n",
    "plt.ylabel(\"correlation\")\n",
    "plt.show()\n",
    "\n",
    "xcov = [crosscorr(data_clean, stocks_data, lag=i, method=\"spearman\") for i in range(-20,20)]\n",
    "plt.plot(range(-20,20), xcov)\n",
    "plt.title(\"spearman cross-correlation\")\n",
    "plt.xlabel(\"lag\")\n",
    "plt.ylabel(\"correlation\")\n",
    "plt.show()"
   ]
  },
  {
   "cell_type": "code",
   "execution_count": null,
   "metadata": {},
   "outputs": [],
   "source": [
    "def get_polarity_cat(score):\n",
    "    if score >=0.05 : \n",
    "        return \"positive\"\n",
    "    elif score <=-0.05:\n",
    "        return \"negative\"\n",
    "    else:\n",
    "        return \"neutral\"\n",
    "\n",
    "data_clean[\"polarity_cat\"]=data_clean[\"polarity_score\"].apply(get_polarity_cat)"
   ]
  }
 ],
 "metadata": {
  "kernelspec": {
   "display_name": "base",
   "language": "python",
   "name": "python3"
  },
  "language_info": {
   "codemirror_mode": {
    "name": "ipython",
    "version": 3
   },
   "file_extension": ".py",
   "mimetype": "text/x-python",
   "name": "python",
   "nbconvert_exporter": "python",
   "pygments_lexer": "ipython3",
   "version": "3.10.10"
  },
  "orig_nbformat": 4,
  "vscode": {
   "interpreter": {
    "hash": "4ab92e488470821d0f36e4693bfdade871b20ad0f418b20fa16c87ff092daf78"
   }
  }
 },
 "nbformat": 4,
 "nbformat_minor": 2
}
